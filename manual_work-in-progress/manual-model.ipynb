{
 "cells": [
  {
   "cell_type": "markdown",
   "id": "7dfee20e",
   "metadata": {
    "papermill": {
     "duration": 0.005582,
     "end_time": "2023-04-18T19:36:38.516478",
     "exception": false,
     "start_time": "2023-04-18T19:36:38.510896",
     "status": "completed"
    },
    "tags": []
   },
   "source": [
    "Code\n",
    "----"
   ]
  },
  {
   "cell_type": "code",
   "execution_count": 1,
   "id": "a7065611",
   "metadata": {
    "execution": {
     "iopub.execute_input": "2023-04-18T19:36:38.526830Z",
     "iopub.status.busy": "2023-04-18T19:36:38.526430Z",
     "iopub.status.idle": "2023-04-18T19:36:49.957524Z",
     "shell.execute_reply": "2023-04-18T19:36:49.956337Z"
    },
    "papermill": {
     "duration": 11.439335,
     "end_time": "2023-04-18T19:36:49.960212",
     "exception": false,
     "start_time": "2023-04-18T19:36:38.520877",
     "status": "completed"
    },
    "tags": []
   },
   "outputs": [
    {
     "name": "stdout",
     "output_type": "stream",
     "text": [
      "[nltk_data] Downloading package punkt to /usr/share/nltk_data...\n",
      "[nltk_data]   Package punkt is already up-to-date!\n"
     ]
    }
   ],
   "source": [
    "# Importing packages\n",
    "import json\n",
    "import pandas as pd\n",
    "import numpy as np\n",
    "import matplotlib.pyplot as plt\n",
    "\n",
    "from collections import Counter\n",
    "from sklearn.model_selection import train_test_split\n",
    "from tensorflow.keras.models import Sequential, Model\n",
    "from tensorflow.keras.layers import Embedding\n",
    "from tensorflow.keras.layers import Permute, dot, add, concatenate\n",
    "from tensorflow.keras.layers import LSTM, Dense, Dropout, Input, Activation,RepeatVector\n",
    "from tensorflow.keras.utils import to_categorical\n",
    "from tensorflow.keras.preprocessing.text import Tokenizer\n",
    "from tensorflow.keras.preprocessing.sequence import pad_sequences\n",
    "from tensorflow.keras.callbacks import ModelCheckpoint,EarlyStopping,ReduceLROnPlateau\n",
    "from tensorflow.keras import optimizers\n",
    "from tensorflow.keras.callbacks import History\n",
    "import nltk\n",
    "nltk.download(\"punkt\")\n",
    "\n",
    "# Getting Data\n",
    "with open(\"/kaggle/input/squad-2-dataset/train-v2.0.json\",mode=\"rt\",encoding=\"utf-8\") as file:\n",
    "    qa_data = json.load(file)"
   ]
  },
  {
   "cell_type": "code",
   "execution_count": 2,
   "id": "922cf0d6",
   "metadata": {
    "execution": {
     "iopub.execute_input": "2023-04-18T19:36:49.971809Z",
     "iopub.status.busy": "2023-04-18T19:36:49.971171Z",
     "iopub.status.idle": "2023-04-18T19:36:49.976969Z",
     "shell.execute_reply": "2023-04-18T19:36:49.975855Z"
    },
    "papermill": {
     "duration": 0.013836,
     "end_time": "2023-04-18T19:36:49.979264",
     "exception": false,
     "start_time": "2023-04-18T19:36:49.965428",
     "status": "completed"
    },
    "tags": []
   },
   "outputs": [],
   "source": [
    "lookup = 'abcdefghijklmnopqrstuvwxyz1234567890?.,'\n",
    "# check for valid characters\n",
    "def in_white_list(_word):\n",
    "    valid_word = False\n",
    "    for char in _word:\n",
    "        if char in lookup:\n",
    "            valid_word = True\n",
    "            break\n",
    "\n",
    "    if valid_word is False:\n",
    "        return False\n",
    "\n",
    "    return True"
   ]
  },
  {
   "cell_type": "code",
   "execution_count": 3,
   "id": "d9525130",
   "metadata": {
    "execution": {
     "iopub.execute_input": "2023-04-18T19:36:49.990946Z",
     "iopub.status.busy": "2023-04-18T19:36:49.989465Z",
     "iopub.status.idle": "2023-04-18T19:36:49.998731Z",
     "shell.execute_reply": "2023-04-18T19:36:49.997786Z"
    },
    "papermill": {
     "duration": 0.017376,
     "end_time": "2023-04-18T19:36:50.001017",
     "exception": false,
     "start_time": "2023-04-18T19:36:49.983641",
     "status": "completed"
    },
    "tags": []
   },
   "outputs": [],
   "source": [
    "# extract paragraphs,question and answers from SQuAD_data\n",
    "def get_SQuAD_data(qa_data,max_data_count,max_context_seq_length,max_question_seq_length,max_target_seq_length):\n",
    "    data = list()\n",
    "    for instance in qa_data['data']:\n",
    "        for paragraph in instance['paragraphs']:\n",
    "            context = paragraph['context']\n",
    "            context_wid_list = [w.lower() for w in nltk.word_tokenize(context) if in_white_list(w)]\n",
    "            if len(context_wid_list) > max_context_seq_length:\n",
    "                continue\n",
    "            qas = paragraph['qas']\n",
    "            for qas_instance in qas:\n",
    "                question = qas_instance['question']\n",
    "                question_wid_list = [w.lower() for w in nltk.word_tokenize(question) if in_white_list(w)]\n",
    "                if len(question_wid_list) > max_question_seq_length:\n",
    "                    continue\n",
    "                answers = qas_instance['answers']\n",
    "                for answer in answers:\n",
    "                    ans = answer['text']\n",
    "                    answer_wid_list = [w.lower() for w in nltk.word_tokenize(ans) if in_white_list(w)]\n",
    "                    if len(answer_wid_list) > max_target_seq_length:\n",
    "                        continue\n",
    "                    if len(data) < max_data_count:\n",
    "                        data.append((context, question, ans))\n",
    "\n",
    "            if len(data) >= max_data_count:\n",
    "                break\n",
    "\n",
    "            break\n",
    "    return data"
   ]
  },
  {
   "cell_type": "code",
   "execution_count": 4,
   "id": "22c41482",
   "metadata": {
    "execution": {
     "iopub.execute_input": "2023-04-18T19:36:50.011079Z",
     "iopub.status.busy": "2023-04-18T19:36:50.010801Z",
     "iopub.status.idle": "2023-04-18T19:36:51.021188Z",
     "shell.execute_reply": "2023-04-18T19:36:51.019652Z"
    },
    "papermill": {
     "duration": 1.018247,
     "end_time": "2023-04-18T19:36:51.023637",
     "exception": false,
     "start_time": "2023-04-18T19:36:50.005390",
     "status": "completed"
    },
    "tags": []
   },
   "outputs": [
    {
     "name": "stdout",
     "output_type": "stream",
     "text": [
      "Total Q&A data size 2350\n"
     ]
    }
   ],
   "source": [
    "max_data_count = 10000\n",
    "max_context_seq_length = 300\n",
    "max_question_seq_length = 60\n",
    "max_target_seq_length = 50\n",
    "data = get_SQuAD_data(qa_data,max_data_count,max_context_seq_length,max_question_seq_length,max_target_seq_length)\n",
    "print(\"Total Q&A data size\",len(data))"
   ]
  },
  {
   "cell_type": "code",
   "execution_count": 5,
   "id": "786e875d",
   "metadata": {
    "execution": {
     "iopub.execute_input": "2023-04-18T19:36:51.034755Z",
     "iopub.status.busy": "2023-04-18T19:36:51.034445Z",
     "iopub.status.idle": "2023-04-18T19:36:53.583599Z",
     "shell.execute_reply": "2023-04-18T19:36:53.582367Z"
    },
    "papermill": {
     "duration": 2.558013,
     "end_time": "2023-04-18T19:36:53.586571",
     "exception": false,
     "start_time": "2023-04-18T19:36:51.028558",
     "status": "completed"
    },
    "tags": []
   },
   "outputs": [],
   "source": [
    "# Feature Extraction\n",
    "max_input_vocab_size = 5000\n",
    "max_target_vocab_size = 5000\n",
    "\n",
    "input_data_samples = []\n",
    "output_data_samples = []\n",
    "\n",
    "input_paragraph_max_seq_length = 0\n",
    "input_question_max_seq_length = 0\n",
    "target_max_seq_length = 0\n",
    "\n",
    "input_paragraph_counter = Counter()\n",
    "input_question_counter = Counter()\n",
    "target_counter = Counter()\n",
    "# iterate over each paragraph, question and answer\n",
    "for sample in data:\n",
    "    paragraph, question, answer = sample\n",
    "    paragraph_word_list = [w.lower() for w in nltk.word_tokenize(paragraph) if in_white_list(w)]\n",
    "    question_word_list = [w.lower() for w in nltk.word_tokenize(question) if in_white_list(w)]\n",
    "    answer_word_list = [w.lower() for w in nltk.word_tokenize(answer) if in_white_list(w)]\n",
    "\n",
    "    output_data = ['START'] + answer_word_list + ['END']\n",
    "\n",
    "    input_data_samples.append([paragraph_word_list, question_word_list])\n",
    "    output_data_samples.append(output_data)\n",
    "\n",
    "    for w in paragraph_word_list:\n",
    "        input_paragraph_counter[w] += 1\n",
    "    for w in question_word_list:\n",
    "        input_question_counter[w] += 1\n",
    "    for w in output_data:\n",
    "        target_counter[w] += 1\n",
    "\n",
    "    input_paragraph_max_seq_length = max(input_paragraph_max_seq_length, len(paragraph_word_list))\n",
    "    input_question_max_seq_length = max(input_question_max_seq_length, len(question_word_list))\n",
    "    target_max_seq_length = max(target_max_seq_length, len(output_data))"
   ]
  },
  {
   "cell_type": "code",
   "execution_count": 6,
   "id": "5010fce9",
   "metadata": {
    "execution": {
     "iopub.execute_input": "2023-04-18T19:36:53.597526Z",
     "iopub.status.busy": "2023-04-18T19:36:53.597187Z",
     "iopub.status.idle": "2023-04-18T19:36:53.625193Z",
     "shell.execute_reply": "2023-04-18T19:36:53.624167Z"
    },
    "papermill": {
     "duration": 0.036139,
     "end_time": "2023-04-18T19:36:53.627595",
     "exception": false,
     "start_time": "2023-04-18T19:36:53.591456",
     "status": "completed"
    },
    "tags": []
   },
   "outputs": [],
   "source": [
    "input_paragraph_word2idx = dict()\n",
    "input_question_word2idx = dict()\n",
    "target_word2idx = dict()\n",
    "\n",
    "# Mapping from word to index\n",
    "for idx, word in enumerate(input_paragraph_counter.most_common(max_input_vocab_size)):\n",
    "    input_paragraph_word2idx[word[0]] = idx + 2\n",
    "for idx, word in enumerate(input_question_counter.most_common(max_input_vocab_size)):\n",
    "    input_question_word2idx[word[0]] = idx + 2\n",
    "for idx, word in enumerate(target_counter.most_common(max_target_vocab_size)):\n",
    "    target_word2idx[word[0]] = idx + 1\n",
    "\n",
    "target_word2idx['UNK'] = 0\n",
    "input_paragraph_word2idx['PAD'] = 0\n",
    "input_paragraph_word2idx['UNK'] = 1\n",
    "input_question_word2idx['PAD'] = 0\n",
    "input_paragraph_word2idx['UNK'] = 1\n",
    "\n",
    "# Mapping from index to word\n",
    "input_paragraph_idx2word = dict([(idx, word) for word, idx in input_paragraph_word2idx.items()])\n",
    "input_question_idx2word = dict([(idx, word) for word, idx in input_question_word2idx.items()])\n",
    "target_idx2word = dict([(idx, word) for word, idx in target_word2idx.items()])\n",
    "\n",
    "num_input_paragraph_tokens = len(input_paragraph_idx2word)\n",
    "num_input_question_tokens = len(input_question_idx2word)\n",
    "num_target_tokens = len(target_idx2word)"
   ]
  },
  {
   "cell_type": "code",
   "execution_count": 7,
   "id": "737a8fbd",
   "metadata": {
    "execution": {
     "iopub.execute_input": "2023-04-18T19:36:53.639158Z",
     "iopub.status.busy": "2023-04-18T19:36:53.638103Z",
     "iopub.status.idle": "2023-04-18T19:36:53.732724Z",
     "shell.execute_reply": "2023-04-18T19:36:53.731693Z"
    },
    "papermill": {
     "duration": 0.102833,
     "end_time": "2023-04-18T19:36:53.735309",
     "exception": false,
     "start_time": "2023-04-18T19:36:53.632476",
     "status": "completed"
    },
    "tags": []
   },
   "outputs": [],
   "source": [
    "# Create sequences : Assign index to each word in texts\n",
    "input_encoded_data_samples = []\n",
    "target_encoded_data_samples = []\n",
    "# iterate over each text sample from paragraphs, questions and answers\n",
    "for input_data, output_data in zip(input_data_samples, output_data_samples):\n",
    "    input_paragraph_encoded_data = []\n",
    "    input_question_encoded_data = []\n",
    "    target_encoded_data = []\n",
    "    input_paragraph_data, input_question_data = input_data\n",
    "    for word in input_paragraph_data:\n",
    "        if word in input_paragraph_word2idx:\n",
    "            input_paragraph_encoded_data.append(input_paragraph_word2idx[word])\n",
    "        else:\n",
    "            input_paragraph_encoded_data.append(1)\n",
    "    for word in input_question_data:\n",
    "        if word in input_question_word2idx:\n",
    "            input_question_encoded_data.append(input_question_word2idx[word])\n",
    "        else:\n",
    "            input_question_encoded_data.append(1)\n",
    "    for word in output_data:\n",
    "        if word in target_word2idx:\n",
    "            target_encoded_data.append(target_word2idx[word])\n",
    "        else:\n",
    "            target_encoded_data.append(0)\n",
    "    input_encoded_data_samples.append([input_paragraph_encoded_data, input_question_encoded_data])\n",
    "    target_encoded_data_samples.append(target_encoded_data)"
   ]
  },
  {
   "cell_type": "code",
   "execution_count": 8,
   "id": "48c9c486",
   "metadata": {
    "execution": {
     "iopub.execute_input": "2023-04-18T19:36:53.747697Z",
     "iopub.status.busy": "2023-04-18T19:36:53.747380Z",
     "iopub.status.idle": "2023-04-18T19:36:53.753645Z",
     "shell.execute_reply": "2023-04-18T19:36:53.752496Z"
    },
    "papermill": {
     "duration": 0.015313,
     "end_time": "2023-04-18T19:36:53.756115",
     "exception": false,
     "start_time": "2023-04-18T19:36:53.740802",
     "status": "completed"
    },
    "tags": []
   },
   "outputs": [],
   "source": [
    "batch_size = 64\n",
    "epochs = 200\n",
    "test_size = 0.2\n",
    "random_state = 42"
   ]
  },
  {
   "cell_type": "code",
   "execution_count": 9,
   "id": "57e01a10",
   "metadata": {
    "execution": {
     "iopub.execute_input": "2023-04-18T19:36:53.767156Z",
     "iopub.status.busy": "2023-04-18T19:36:53.766853Z",
     "iopub.status.idle": "2023-04-18T19:36:53.777018Z",
     "shell.execute_reply": "2023-04-18T19:36:53.776054Z"
    },
    "papermill": {
     "duration": 0.018354,
     "end_time": "2023-04-18T19:36:53.779165",
     "exception": false,
     "start_time": "2023-04-18T19:36:53.760811",
     "status": "completed"
    },
    "tags": []
   },
   "outputs": [],
   "source": [
    "# get train and test samples\n",
    "x_train, x_test, y_train, y_test = train_test_split(input_encoded_data_samples, target_encoded_data_samples, test_size=test_size,random_state=random_state)"
   ]
  },
  {
   "cell_type": "code",
   "execution_count": 10,
   "id": "c3fa47e9",
   "metadata": {
    "execution": {
     "iopub.execute_input": "2023-04-18T19:36:53.790601Z",
     "iopub.status.busy": "2023-04-18T19:36:53.789869Z",
     "iopub.status.idle": "2023-04-18T19:36:53.800471Z",
     "shell.execute_reply": "2023-04-18T19:36:53.799508Z"
    },
    "papermill": {
     "duration": 0.018718,
     "end_time": "2023-04-18T19:36:53.802525",
     "exception": false,
     "start_time": "2023-04-18T19:36:53.783807",
     "status": "completed"
    },
    "tags": []
   },
   "outputs": [],
   "source": [
    "# train and test generator\n",
    "def generate_batch(input_paragraph_max_seq_length,input_question_max_seq_length,target_max_seq_length,num_target_tokens, input_data, output_data, batch_size):\n",
    "    num_batches = len(input_data) // batch_size\n",
    "    while True:\n",
    "        for batchIdx in range(0, num_batches):\n",
    "            start = batchIdx * batch_size\n",
    "            end = (batchIdx + 1) * batch_size\n",
    "            encoder_input_paragraph_data_batch = []\n",
    "            encoder_input_question_data_batch = []\n",
    "            for input_paragraph_data, input_question_data in input_data[start:end]:\n",
    "                encoder_input_paragraph_data_batch.append(input_paragraph_data)\n",
    "                encoder_input_question_data_batch.append(input_question_data)\n",
    "            encoder_input_paragraph_data_batch = pad_sequences(encoder_input_paragraph_data_batch,\n",
    "                                                               input_paragraph_max_seq_length)\n",
    "            encoder_input_question_data_batch = pad_sequences(encoder_input_question_data_batch,\n",
    "                                                              input_question_max_seq_length)\n",
    "            decoder_target_data_batch = np.zeros(shape=(batch_size, target_max_seq_length, num_target_tokens))\n",
    "            decoder_input_data_batch = np.zeros(shape=(batch_size, target_max_seq_length, num_target_tokens))\n",
    "            for lineIdx, target_wid_list in enumerate(output_data[start:end]):\n",
    "                for idx, wid in enumerate(target_wid_list):\n",
    "                    if wid == 0:  # UNKNOWN\n",
    "                        continue\n",
    "                    decoder_input_data_batch[lineIdx, idx, wid] = 1\n",
    "                    if idx > 0:\n",
    "                        decoder_target_data_batch[lineIdx, idx - 1, wid] = 1\n",
    "            yield [encoder_input_paragraph_data_batch, encoder_input_question_data_batch,\n",
    "                   decoder_input_data_batch], decoder_target_data_batch"
   ]
  },
  {
   "cell_type": "code",
   "execution_count": 11,
   "id": "6828aa2f",
   "metadata": {
    "execution": {
     "iopub.execute_input": "2023-04-18T19:36:53.814533Z",
     "iopub.status.busy": "2023-04-18T19:36:53.813108Z",
     "iopub.status.idle": "2023-04-18T19:36:53.818773Z",
     "shell.execute_reply": "2023-04-18T19:36:53.817689Z"
    },
    "papermill": {
     "duration": 0.013365,
     "end_time": "2023-04-18T19:36:53.820901",
     "exception": false,
     "start_time": "2023-04-18T19:36:53.807536",
     "status": "completed"
    },
    "tags": []
   },
   "outputs": [],
   "source": [
    "# get train and test generators\n",
    "train_gen = generate_batch(input_paragraph_max_seq_length,input_question_max_seq_length,target_max_seq_length,num_target_tokens, x_train, y_train, batch_size)\n",
    "test_gen = generate_batch(input_paragraph_max_seq_length,input_question_max_seq_length,target_max_seq_length,num_target_tokens, x_test, y_test, batch_size)"
   ]
  },
  {
   "cell_type": "code",
   "execution_count": 12,
   "id": "5121a583",
   "metadata": {
    "execution": {
     "iopub.execute_input": "2023-04-18T19:36:53.832451Z",
     "iopub.status.busy": "2023-04-18T19:36:53.830991Z",
     "iopub.status.idle": "2023-04-18T19:36:53.836229Z",
     "shell.execute_reply": "2023-04-18T19:36:53.835207Z"
    },
    "papermill": {
     "duration": 0.013019,
     "end_time": "2023-04-18T19:36:53.838662",
     "exception": false,
     "start_time": "2023-04-18T19:36:53.825643",
     "status": "completed"
    },
    "tags": []
   },
   "outputs": [],
   "source": [
    "# get train and test batch size\n",
    "train_num_batches = len(x_train) // batch_size\n",
    "test_num_batches = len(x_test) // batch_size"
   ]
  },
  {
   "cell_type": "code",
   "execution_count": 13,
   "id": "1f75f828",
   "metadata": {
    "execution": {
     "iopub.execute_input": "2023-04-18T19:36:53.849819Z",
     "iopub.status.busy": "2023-04-18T19:36:53.849346Z",
     "iopub.status.idle": "2023-04-18T19:36:53.861263Z",
     "shell.execute_reply": "2023-04-18T19:36:53.860307Z"
    },
    "papermill": {
     "duration": 0.020015,
     "end_time": "2023-04-18T19:36:53.863268",
     "exception": false,
     "start_time": "2023-04-18T19:36:53.843253",
     "status": "completed"
    },
    "tags": []
   },
   "outputs": [],
   "source": [
    "# Build the model\n",
    "def create_model(num_encoder_paragraph_tokens,max_encoder_paragraph_seq_length,\n",
    "                 num_encoder_question_tokens,max_encoder_question_seq_length,num_decoder_tokens):\n",
    "\n",
    "    hidden_units = 256\n",
    "    embed_hidden_units = 100\n",
    "\n",
    "    context_inputs = Input(shape=(None,), name='context_inputs')\n",
    "    encoded_context = Embedding(input_dim=num_encoder_paragraph_tokens, output_dim=embed_hidden_units,\n",
    "                                    input_length=max_encoder_paragraph_seq_length,\n",
    "                                    name='context_embedding')(context_inputs)\n",
    "    encoded_context = Dropout(0.3)(encoded_context)\n",
    "\n",
    "    question_inputs = Input(shape=(None,), name='question_inputs')\n",
    "    encoded_question = Embedding(input_dim=num_encoder_question_tokens, output_dim=embed_hidden_units,\n",
    "                                     input_length=max_encoder_question_seq_length,\n",
    "                                     name='question_embedding')(question_inputs)\n",
    "    encoded_question = Dropout(0.3)(encoded_question)\n",
    "    encoded_question = LSTM(units=embed_hidden_units, name='question_lstm')(encoded_question)\n",
    "    encoded_question = RepeatVector(max_encoder_paragraph_seq_length)(encoded_question)\n",
    "\n",
    "    merged = add([encoded_context, encoded_question])\n",
    "\n",
    "    encoder_lstm = LSTM(units=hidden_units, return_state=True, name='encoder_lstm')\n",
    "    encoder_outputs, encoder_state_h, encoder_state_c = encoder_lstm(merged)\n",
    "    encoder_states = [encoder_state_h, encoder_state_c]\n",
    "\n",
    "    decoder_inputs = Input(shape=(None, num_decoder_tokens), name='decoder_inputs')\n",
    "    decoder_lstm = LSTM(units=hidden_units, return_state=True, return_sequences=True, name='decoder_lstm')\n",
    "    decoder_outputs, decoder_state_h, decoder_state_c = decoder_lstm(decoder_inputs,\n",
    "                                                                         initial_state=encoder_states)\n",
    "    decoder_dense = Dense(units=num_decoder_tokens, activation='softmax', name='decoder_dense')\n",
    "    decoder_outputs = decoder_dense(decoder_outputs)\n",
    "\n",
    "    model = Model([context_inputs, question_inputs, decoder_inputs], decoder_outputs)\n",
    "    model.compile(optimizer='rmsprop', loss='categorical_crossentropy', metrics=['accuracy'])\n",
    "\n",
    "    encoder_model = Model([context_inputs, question_inputs], encoder_states)\n",
    "\n",
    "    decoder_state_inputs = [Input(shape=(hidden_units,)), Input(shape=(hidden_units,))]\n",
    "    decoder_outputs, state_h, state_c = decoder_lstm(decoder_inputs, initial_state=decoder_state_inputs)\n",
    "    decoder_states = [state_h, state_c]\n",
    "    decoder_outputs = decoder_dense(decoder_outputs)\n",
    "    decoder_model = Model([decoder_inputs] + decoder_state_inputs, [decoder_outputs] + decoder_states)\n",
    "\n",
    "    return model, encoder_model, decoder_model"
   ]
  },
  {
   "cell_type": "code",
   "execution_count": 14,
   "id": "ef7ff97d",
   "metadata": {
    "execution": {
     "iopub.execute_input": "2023-04-18T19:36:53.874967Z",
     "iopub.status.busy": "2023-04-18T19:36:53.874173Z",
     "iopub.status.idle": "2023-04-18T19:36:58.675716Z",
     "shell.execute_reply": "2023-04-18T19:36:58.674895Z"
    },
    "papermill": {
     "duration": 4.862358,
     "end_time": "2023-04-18T19:36:58.730260",
     "exception": false,
     "start_time": "2023-04-18T19:36:53.867902",
     "status": "completed"
    },
    "tags": []
   },
   "outputs": [
    {
     "name": "stdout",
     "output_type": "stream",
     "text": [
      "Model: \"model\"\n",
      "__________________________________________________________________________________________________\n",
      " Layer (type)                   Output Shape         Param #     Connected to                     \n",
      "==================================================================================================\n",
      " question_inputs (InputLayer)   [(None, None)]       0           []                               \n",
      "                                                                                                  \n",
      " question_embedding (Embedding)  (None, None, 100)   381400      ['question_inputs[0][0]']        \n",
      "                                                                                                  \n",
      " context_inputs (InputLayer)    [(None, None)]       0           []                               \n",
      "                                                                                                  \n",
      " dropout_1 (Dropout)            (None, None, 100)    0           ['question_embedding[0][0]']     \n",
      "                                                                                                  \n",
      " context_embedding (Embedding)  (None, None, 100)    500200      ['context_inputs[0][0]']         \n",
      "                                                                                                  \n",
      " question_lstm (LSTM)           (None, 100)          80400       ['dropout_1[0][0]']              \n",
      "                                                                                                  \n",
      " dropout (Dropout)              (None, None, 100)    0           ['context_embedding[0][0]']      \n",
      "                                                                                                  \n",
      " repeat_vector (RepeatVector)   (None, 298, 100)     0           ['question_lstm[0][0]']          \n",
      "                                                                                                  \n",
      " add (Add)                      (None, 298, 100)     0           ['dropout[0][0]',                \n",
      "                                                                  'repeat_vector[0][0]']          \n",
      "                                                                                                  \n",
      " decoder_inputs (InputLayer)    [(None, None, 3227)  0           []                               \n",
      "                                ]                                                                 \n",
      "                                                                                                  \n",
      " encoder_lstm (LSTM)            [(None, 256),        365568      ['add[0][0]']                    \n",
      "                                 (None, 256),                                                     \n",
      "                                 (None, 256)]                                                     \n",
      "                                                                                                  \n",
      " decoder_lstm (LSTM)            [(None, None, 256),  3567616     ['decoder_inputs[0][0]',         \n",
      "                                 (None, 256),                     'encoder_lstm[0][1]',           \n",
      "                                 (None, 256)]                     'encoder_lstm[0][2]']           \n",
      "                                                                                                  \n",
      " decoder_dense (Dense)          (None, None, 3227)   829339      ['decoder_lstm[0][0]']           \n",
      "                                                                                                  \n",
      "==================================================================================================\n",
      "Total params: 5,724,523\n",
      "Trainable params: 5,724,523\n",
      "Non-trainable params: 0\n",
      "__________________________________________________________________________________________________\n",
      "Model: \"model_1\"\n",
      "__________________________________________________________________________________________________\n",
      " Layer (type)                   Output Shape         Param #     Connected to                     \n",
      "==================================================================================================\n",
      " question_inputs (InputLayer)   [(None, None)]       0           []                               \n",
      "                                                                                                  \n",
      " question_embedding (Embedding)  (None, None, 100)   381400      ['question_inputs[0][0]']        \n",
      "                                                                                                  \n",
      " context_inputs (InputLayer)    [(None, None)]       0           []                               \n",
      "                                                                                                  \n",
      " dropout_1 (Dropout)            (None, None, 100)    0           ['question_embedding[0][0]']     \n",
      "                                                                                                  \n",
      " context_embedding (Embedding)  (None, None, 100)    500200      ['context_inputs[0][0]']         \n",
      "                                                                                                  \n",
      " question_lstm (LSTM)           (None, 100)          80400       ['dropout_1[0][0]']              \n",
      "                                                                                                  \n",
      " dropout (Dropout)              (None, None, 100)    0           ['context_embedding[0][0]']      \n",
      "                                                                                                  \n",
      " repeat_vector (RepeatVector)   (None, 298, 100)     0           ['question_lstm[0][0]']          \n",
      "                                                                                                  \n",
      " add (Add)                      (None, 298, 100)     0           ['dropout[0][0]',                \n",
      "                                                                  'repeat_vector[0][0]']          \n",
      "                                                                                                  \n",
      " encoder_lstm (LSTM)            [(None, 256),        365568      ['add[0][0]']                    \n",
      "                                 (None, 256),                                                     \n",
      "                                 (None, 256)]                                                     \n",
      "                                                                                                  \n",
      "==================================================================================================\n",
      "Total params: 1,327,568\n",
      "Trainable params: 1,327,568\n",
      "Non-trainable params: 0\n",
      "__________________________________________________________________________________________________\n",
      "Model: \"model_2\"\n",
      "__________________________________________________________________________________________________\n",
      " Layer (type)                   Output Shape         Param #     Connected to                     \n",
      "==================================================================================================\n",
      " decoder_inputs (InputLayer)    [(None, None, 3227)  0           []                               \n",
      "                                ]                                                                 \n",
      "                                                                                                  \n",
      " input_1 (InputLayer)           [(None, 256)]        0           []                               \n",
      "                                                                                                  \n",
      " input_2 (InputLayer)           [(None, 256)]        0           []                               \n",
      "                                                                                                  \n",
      " decoder_lstm (LSTM)            [(None, None, 256),  3567616     ['decoder_inputs[0][0]',         \n",
      "                                 (None, 256),                     'input_1[0][0]',                \n",
      "                                 (None, 256)]                     'input_2[0][0]']                \n",
      "                                                                                                  \n",
      " decoder_dense (Dense)          (None, None, 3227)   829339      ['decoder_lstm[1][0]']           \n",
      "                                                                                                  \n",
      "==================================================================================================\n",
      "Total params: 4,396,955\n",
      "Trainable params: 4,396,955\n",
      "Non-trainable params: 0\n",
      "__________________________________________________________________________________________________\n"
     ]
    }
   ],
   "source": [
    "model, encoder_model, decoder_model = create_model(num_input_paragraph_tokens,input_paragraph_max_seq_length,\n",
    "                 num_input_question_tokens,input_question_max_seq_length,num_target_tokens)\n",
    "model.summary()\n",
    "encoder_model.summary()\n",
    "decoder_model.summary()"
   ]
  },
  {
   "cell_type": "code",
   "execution_count": 15,
   "id": "4a901f53",
   "metadata": {
    "execution": {
     "iopub.execute_input": "2023-04-18T19:36:58.752140Z",
     "iopub.status.busy": "2023-04-18T19:36:58.751787Z",
     "iopub.status.idle": "2023-04-18T19:36:59.114591Z",
     "shell.execute_reply": "2023-04-18T19:36:59.113324Z"
    },
    "papermill": {
     "duration": 0.376977,
     "end_time": "2023-04-18T19:36:59.117837",
     "exception": false,
     "start_time": "2023-04-18T19:36:58.740860",
     "status": "completed"
    },
    "tags": []
   },
   "outputs": [
    {
     "data": {
      "image/png": "[encoded data removed]",
      "text/plain": [
       "<IPython.core.display.Image object>"
      ]
     },
     "execution_count": 15,
     "metadata": {},
     "output_type": "execute_result"
    }
   ],
   "source": [
    "from tensorflow.keras.utils import plot_model\n",
    "plot_model(model, to_file='model.png', show_shapes=True)"
   ]
  },
  {
   "cell_type": "code",
   "execution_count": 16,
   "id": "c58c71e6",
   "metadata": {
    "execution": {
     "iopub.execute_input": "2023-04-18T19:36:59.141366Z",
     "iopub.status.busy": "2023-04-18T19:36:59.141026Z",
     "iopub.status.idle": "2023-04-18T19:36:59.147420Z",
     "shell.execute_reply": "2023-04-18T19:36:59.146386Z"
    },
    "papermill": {
     "duration": 0.020782,
     "end_time": "2023-04-18T19:36:59.149595",
     "exception": false,
     "start_time": "2023-04-18T19:36:59.128813",
     "status": "completed"
    },
    "tags": []
   },
   "outputs": [],
   "source": [
    "# Defining a helper function to save the model after each epoch \n",
    "# in which the loss decreases \n",
    "filepath = 'model_QandA.h5'\n",
    "checkpoint = ModelCheckpoint(filepath, monitor='val_loss', verbose=1, save_best_only=True, mode='min')\n",
    "# Defining a helper function to reduce the learning rate each time \n",
    "# the learning plateaus \n",
    "reduce_alpha = ReduceLROnPlateau(monitor ='val_loss', factor = 0.2, patience = 1, min_lr = 0.001)\n",
    "# stop traning if there increase in loss\n",
    "es = EarlyStopping(monitor='val_loss', mode='min', verbose=1, patience=20)\n",
    "callbacks = [es, checkpoint, reduce_alpha] "
   ]
  },
  {
   "cell_type": "code",
   "execution_count": 17,
   "id": "0f88581d",
   "metadata": {
    "execution": {
     "iopub.execute_input": "2023-04-18T19:36:59.171765Z",
     "iopub.status.busy": "2023-04-18T19:36:59.171495Z",
     "iopub.status.idle": "2023-04-18T19:38:25.107612Z",
     "shell.execute_reply": "2023-04-18T19:38:25.106464Z"
    },
    "papermill": {
     "duration": 85.949781,
     "end_time": "2023-04-18T19:38:25.109730",
     "exception": false,
     "start_time": "2023-04-18T19:36:59.159949",
     "status": "completed"
    },
    "tags": []
   },
   "outputs": [
    {
     "name": "stderr",
     "output_type": "stream",
     "text": [
      "/opt/conda/lib/python3.7/site-packages/ipykernel_launcher.py:4: UserWarning: `Model.fit_generator` is deprecated and will be removed in a future version. Please use `Model.fit`, which supports generators.\n",
      "  after removing the cwd from sys.path.\n"
     ]
    },
    {
     "name": "stdout",
     "output_type": "stream",
     "text": [
      "Epoch 1/200\n",
      "29/29 [==============================] - ETA: 0s - loss: 0.9303 - accuracy: 0.0265\n",
      "Epoch 1: val_loss improved from inf to 0.86371, saving model to model_QandA.h5\n",
      "29/29 [==============================] - 22s 356ms/step - loss: 0.9303 - accuracy: 0.0265 - val_loss: 0.8637 - val_accuracy: 0.0278 - lr: 0.0010\n",
      "Epoch 2/200\n",
      "29/29 [==============================] - ETA: 0s - loss: 0.7540 - accuracy: 0.0278\n",
      "Epoch 2: val_loss improved from 0.86371 to 0.75751, saving model to model_QandA.h5\n",
      "29/29 [==============================] - 4s 133ms/step - loss: 0.7540 - accuracy: 0.0278 - val_loss: 0.7575 - val_accuracy: 0.0278 - lr: 0.0010\n",
      "Epoch 3/200\n",
      "29/29 [==============================] - ETA: 0s - loss: 0.7414 - accuracy: 0.0278\n",
      "Epoch 3: val_loss did not improve from 0.75751\n",
      "29/29 [==============================] - 3s 101ms/step - loss: 0.7414 - accuracy: 0.0278 - val_loss: 0.7611 - val_accuracy: 0.0278 - lr: 0.0010\n",
      "Epoch 4/200\n",
      "29/29 [==============================] - ETA: 0s - loss: 0.7427 - accuracy: 0.0278\n",
      "Epoch 4: val_loss did not improve from 0.75751\n",
      "29/29 [==============================] - 3s 105ms/step - loss: 0.7427 - accuracy: 0.0278 - val_loss: 0.7621 - val_accuracy: 0.0278 - lr: 0.0010\n",
      "Epoch 5/200\n",
      "29/29 [==============================] - ETA: 0s - loss: 0.7424 - accuracy: 0.0278\n",
      "Epoch 5: val_loss did not improve from 0.75751\n",
      "29/29 [==============================] - 4s 128ms/step - loss: 0.7424 - accuracy: 0.0278 - val_loss: 0.7628 - val_accuracy: 0.0278 - lr: 0.0010\n",
      "Epoch 6/200\n",
      "29/29 [==============================] - ETA: 0s - loss: 0.7417 - accuracy: 0.0278\n",
      "Epoch 6: val_loss did not improve from 0.75751\n",
      "29/29 [==============================] - 4s 128ms/step - loss: 0.7417 - accuracy: 0.0278 - val_loss: 0.7632 - val_accuracy: 0.0278 - lr: 0.0010\n",
      "Epoch 7/200\n",
      "29/29 [==============================] - ETA: 0s - loss: 0.7411 - accuracy: 0.0278\n",
      "Epoch 7: val_loss did not improve from 0.75751\n",
      "29/29 [==============================] - 3s 103ms/step - loss: 0.7411 - accuracy: 0.0278 - val_loss: 0.7627 - val_accuracy: 0.0278 - lr: 0.0010\n",
      "Epoch 8/200\n",
      "29/29 [==============================] - ETA: 0s - loss: 0.7405 - accuracy: 0.0278\n",
      "Epoch 8: val_loss did not improve from 0.75751\n",
      "29/29 [==============================] - 3s 103ms/step - loss: 0.7405 - accuracy: 0.0278 - val_loss: 0.7620 - val_accuracy: 0.0278 - lr: 0.0010\n",
      "Epoch 9/200\n",
      "29/29 [==============================] - ETA: 0s - loss: 0.7399 - accuracy: 0.0278\n",
      "Epoch 9: val_loss did not improve from 0.75751\n",
      "29/29 [==============================] - 3s 98ms/step - loss: 0.7399 - accuracy: 0.0278 - val_loss: 0.7622 - val_accuracy: 0.0278 - lr: 0.0010\n",
      "Epoch 10/200\n",
      "29/29 [==============================] - ETA: 0s - loss: 0.7393 - accuracy: 0.0278\n",
      "Epoch 10: val_loss did not improve from 0.75751\n",
      "29/29 [==============================] - 3s 99ms/step - loss: 0.7393 - accuracy: 0.0278 - val_loss: 0.7669 - val_accuracy: 0.0278 - lr: 0.0010\n",
      "Epoch 11/200\n",
      "29/29 [==============================] - ETA: 0s - loss: 0.7389 - accuracy: 0.0278\n",
      "Epoch 11: val_loss did not improve from 0.75751\n",
      "29/29 [==============================] - 3s 99ms/step - loss: 0.7389 - accuracy: 0.0278 - val_loss: 0.7701 - val_accuracy: 0.0278 - lr: 0.0010\n",
      "Epoch 12/200\n",
      "29/29 [==============================] - ETA: 0s - loss: 0.7382 - accuracy: 0.0278\n",
      "Epoch 12: val_loss did not improve from 0.75751\n",
      "29/29 [==============================] - 3s 104ms/step - loss: 0.7382 - accuracy: 0.0278 - val_loss: 0.7698 - val_accuracy: 0.0278 - lr: 0.0010\n",
      "Epoch 13/200\n",
      "29/29 [==============================] - ETA: 0s - loss: 0.7377 - accuracy: 0.0278\n",
      "Epoch 13: val_loss did not improve from 0.75751\n",
      "29/29 [==============================] - 3s 101ms/step - loss: 0.7377 - accuracy: 0.0278 - val_loss: 0.7693 - val_accuracy: 0.0278 - lr: 0.0010\n",
      "Epoch 14/200\n",
      "29/29 [==============================] - ETA: 0s - loss: 0.7370 - accuracy: 0.0278\n",
      "Epoch 14: val_loss did not improve from 0.75751\n",
      "29/29 [==============================] - 3s 101ms/step - loss: 0.7370 - accuracy: 0.0278 - val_loss: 0.7696 - val_accuracy: 0.0278 - lr: 0.0010\n",
      "Epoch 15/200\n",
      "29/29 [==============================] - ETA: 0s - loss: 0.7364 - accuracy: 0.0278\n",
      "Epoch 15: val_loss did not improve from 0.75751\n",
      "29/29 [==============================] - 3s 101ms/step - loss: 0.7364 - accuracy: 0.0278 - val_loss: 0.7693 - val_accuracy: 0.0278 - lr: 0.0010\n",
      "Epoch 16/200\n",
      "29/29 [==============================] - ETA: 0s - loss: 0.7359 - accuracy: 0.0278\n",
      "Epoch 16: val_loss did not improve from 0.75751\n",
      "29/29 [==============================] - 3s 115ms/step - loss: 0.7359 - accuracy: 0.0278 - val_loss: 0.7693 - val_accuracy: 0.0278 - lr: 0.0010\n",
      "Epoch 17/200\n",
      "29/29 [==============================] - ETA: 0s - loss: 0.7354 - accuracy: 0.0279\n",
      "Epoch 17: val_loss did not improve from 0.75751\n",
      "29/29 [==============================] - 3s 100ms/step - loss: 0.7354 - accuracy: 0.0279 - val_loss: 0.7692 - val_accuracy: 0.0278 - lr: 0.0010\n",
      "Epoch 18/200\n",
      "29/29 [==============================] - ETA: 0s - loss: 0.7350 - accuracy: 0.0279\n",
      "Epoch 18: val_loss did not improve from 0.75751\n",
      "29/29 [==============================] - 3s 102ms/step - loss: 0.7350 - accuracy: 0.0279 - val_loss: 0.7689 - val_accuracy: 0.0278 - lr: 0.0010\n",
      "Epoch 19/200\n",
      "29/29 [==============================] - ETA: 0s - loss: 0.7346 - accuracy: 0.0279\n",
      "Epoch 19: val_loss did not improve from 0.75751\n",
      "29/29 [==============================] - 3s 107ms/step - loss: 0.7346 - accuracy: 0.0279 - val_loss: 0.7687 - val_accuracy: 0.0278 - lr: 0.0010\n",
      "Epoch 20/200\n",
      "29/29 [==============================] - ETA: 0s - loss: 0.7343 - accuracy: 0.0279\n",
      "Epoch 20: val_loss did not improve from 0.75751\n",
      "29/29 [==============================] - 3s 101ms/step - loss: 0.7343 - accuracy: 0.0279 - val_loss: 0.7682 - val_accuracy: 0.0278 - lr: 0.0010\n",
      "Epoch 21/200\n",
      "29/29 [==============================] - ETA: 0s - loss: 0.7340 - accuracy: 0.0279\n",
      "Epoch 21: val_loss did not improve from 0.75751\n",
      "29/29 [==============================] - 3s 99ms/step - loss: 0.7340 - accuracy: 0.0279 - val_loss: 0.7683 - val_accuracy: 0.0278 - lr: 0.0010\n",
      "Epoch 22/200\n",
      "29/29 [==============================] - ETA: 0s - loss: 0.7339 - accuracy: 0.0279\n",
      "Epoch 22: val_loss did not improve from 0.75751\n",
      "29/29 [==============================] - 3s 101ms/step - loss: 0.7339 - accuracy: 0.0279 - val_loss: 0.7659 - val_accuracy: 0.0278 - lr: 0.0010\n",
      "Epoch 22: early stopping\n"
     ]
    },
    {
     "data": {
      "text/plain": [
       "<keras.callbacks.History at 0x7b8b028a4dd0>"
      ]
     },
     "execution_count": 17,
     "metadata": {},
     "output_type": "execute_result"
    }
   ],
   "source": [
    "model.fit_generator(generator=train_gen, steps_per_epoch=train_num_batches,\n",
    "                                           epochs=epochs,\n",
    "                                           verbose=1, validation_data=test_gen, validation_steps=test_num_batches,\n",
    "                                           callbacks=callbacks)"
   ]
  },
  {
   "cell_type": "code",
   "execution_count": 18,
   "id": "52cbd32a",
   "metadata": {
    "execution": {
     "iopub.execute_input": "2023-04-18T19:38:25.205845Z",
     "iopub.status.busy": "2023-04-18T19:38:25.205174Z",
     "iopub.status.idle": "2023-04-18T19:38:26.283089Z",
     "shell.execute_reply": "2023-04-18T19:38:26.281950Z"
    },
    "jupyter": {
     "source_hidden": true
    },
    "papermill": {
     "duration": 1.12783,
     "end_time": "2023-04-18T19:38:26.285797",
     "exception": false,
     "start_time": "2023-04-18T19:38:25.157967",
     "status": "completed"
    },
    "tags": []
   },
   "outputs": [],
   "source": [
    "# Test the model\n",
    "def reply(paragraph, question):\n",
    "    input_paragraph_seq = []\n",
    "    input_question_seq = []\n",
    "    input_paragraph_wid_list = []\n",
    "    input_question_wid_list = []\n",
    "    input_paragraph_text = paragraph.lower()\n",
    "    input_question_text = question.lower()\n",
    "    for word in nltk.word_tokenize(input_paragraph_text):\n",
    "        if not in_white_list(word):\n",
    "            continue\n",
    "        idx = 1  # default [UNK]\n",
    "        if word in input_paragraph_word2idx:\n",
    "            idx = input_paragraph_word2idx[word]\n",
    "        input_paragraph_wid_list.append(idx)\n",
    "    for word in nltk.word_tokenize(input_question_text):\n",
    "        if not in_white_list(word):\n",
    "            continue\n",
    "            idx = 1  # default [UNK]\n",
    "        if word in input_question_word2idx:\n",
    "            idx = input_question_word2idx[word]\n",
    "        input_question_wid_list.append(idx)\n",
    "    input_paragraph_seq.append(input_paragraph_wid_list)\n",
    "    input_question_seq.append(input_question_wid_list)\n",
    "\n",
    "    input_paragraph_seq = pad_sequences(input_paragraph_seq, input_paragraph_max_seq_length)\n",
    "    input_question_seq = pad_sequences(input_question_seq, input_question_max_seq_length)\n",
    "    states_value = encoder_model.predict([input_paragraph_seq, input_question_seq])\n",
    "\n",
    "    target_seq = np.zeros((1, 1, num_target_tokens))\n",
    "    target_seq[0, 0, target_word2idx['START']] = 1\n",
    "    target_text = ''\n",
    "    target_text_len = 0\n",
    "    terminated = False\n",
    "    while not terminated:\n",
    "        output_tokens, h, c = decoder_model.predict([target_seq] + states_value)\n",
    "\n",
    "        sample_token_idx = np.argmax(output_tokens[0, -1, :])\n",
    "        sample_word = target_idx2word[sample_token_idx]\n",
    "        target_text_len += 1\n",
    "\n",
    "        if sample_word != 'START' and sample_word != 'END':\n",
    "            target_text += ' ' + sample_word\n",
    "\n",
    "        if sample_word == 'END' or target_text_len >= target_max_seq_length:\n",
    "            terminated = True\n",
    "\n",
    "        target_seq = np.zeros((1, 1, num_target_tokens))\n",
    "        target_seq[0, 0, sample_token_idx] = 1\n",
    "\n",
    "        states_value = [h, c]\n",
    "    return target_text.strip()"
   ]
  },
  {
   "cell_type": "markdown",
   "id": "5c2a4585",
   "metadata": {
    "papermill": {
     "duration": 0.047235,
     "end_time": "2023-04-18T19:38:26.380250",
     "exception": false,
     "start_time": "2023-04-18T19:38:26.333015",
     "status": "completed"
    },
    "tags": []
   },
   "source": [
    "Conclusion\n",
    "----------\n",
    "\n",
    "Here I have tried to follow the approach mentioned in https://github.com/scionoftech/Question_Answering_System/blob/master/Question_and_Answer_System.ipynb.\n",
    "This is still in \"Work in Progress\" status. The accuracy of this model is not up to the mark. I will continue to explore more on this."
   ]
  }
 ],
 "metadata": {
  "kernelspec": {
   "display_name": "Python 3",
   "language": "python",
   "name": "python3"
  },
  "language_info": {
   "codemirror_mode": {
    "name": "ipython",
    "version": 3
   },
   "file_extension": ".py",
   "mimetype": "text/x-python",
   "name": "python",
   "nbconvert_exporter": "python",
   "pygments_lexer": "ipython3",
   "version": "3.7.12"
  },
  "papermill": {
   "default_parameters": {},
   "duration": 122.002139,
   "end_time": "2023-04-18T19:38:30.465987",
   "environment_variables": {},
   "exception": null,
   "input_path": "__notebook__.ipynb",
   "output_path": "__notebook__.ipynb",
   "parameters": {},
   "start_time": "2023-04-18T19:36:28.463848",
   "version": "2.4.0"
  }
 },
 "nbformat": 4,
 "nbformat_minor": 5
}
